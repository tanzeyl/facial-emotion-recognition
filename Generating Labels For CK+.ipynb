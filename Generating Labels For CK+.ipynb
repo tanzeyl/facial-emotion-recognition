{
  "nbformat": 4,
  "nbformat_minor": 0,
  "metadata": {
    "colab": {
      "provenance": [],
      "collapsed_sections": []
    },
    "kernelspec": {
      "name": "python3",
      "display_name": "Python 3"
    },
    "language_info": {
      "name": "python"
    }
  },
  "cells": [
    {
      "cell_type": "code",
      "execution_count": null,
      "metadata": {
        "id": "t1wos9nGKJzI"
      },
      "outputs": [],
      "source": [
        "import pandas as pd\n",
        "import os"
      ]
    },
    {
      "cell_type": "code",
      "source": [
        "train_src = \"/content/drive/MyDrive/CK+/train/\"\n",
        "val_src = \"/content/drive/MyDrive/CK+/val/\"\n",
        "test_src = \"/content/drive/MyDrive/CK+/test/\""
      ],
      "metadata": {
        "id": "-RJj0AE9KeYg"
      },
      "execution_count": null,
      "outputs": []
    },
    {
      "cell_type": "code",
      "source": [
        "columns = [\"Usage\", \"Image name\", \"happy\", \"surprise\", \"sadness\", \"anger\", \"disgust\", \"fear\", \"contempt\", \"unknown\", \"NF\"]\n",
        "df = pd.DataFrame(columns=columns)\n",
        "trainLabels = pd.DataFrame(columns=columns)\n",
        "valLabels = pd.DataFrame(columns=columns)\n",
        "testLabels = pd.DataFrame(columns=columns)"
      ],
      "metadata": {
        "id": "AxrBqNE6K0fr"
      },
      "execution_count": null,
      "outputs": []
    },
    {
      "cell_type": "code",
      "source": [
        "emo_classes = {'happy' : 0, 'surprise' : 1, 'sadness' : 2, 'anger' : 3, 'disgust' : 4, 'fear' : 5, 'contempt' : 6}"
      ],
      "metadata": {
        "id": "lpzFOV7SLNpj"
      },
      "execution_count": null,
      "outputs": []
    },
    {
      "cell_type": "code",
      "source": [
        "count = 0\n",
        "for emotion, number in emo_classes.items():\n",
        "    new_train_src = os.path.join(train_src, emotion)\n",
        "    for img in os.listdir(new_train_src):\n",
        "        iname = \"ck+\" + str(count) + \".png\"\n",
        "        count += 1\n",
        "        if emotion == \"happy\":\n",
        "            df.loc[len(df.index)] = [\"Training\", iname, 1, 0, 0, 0, 0, 0, 0, 0, 0]\n",
        "            trainLabels.loc[len(trainLabels.index)] = [iname, \"(0, 0, 48, 48)\", 1, 0, 0, 0, 0, 0, 0, 0, 0]\n",
        "        elif emotion == \"surprise\":\n",
        "            df.loc[len(df.index)] = [\"Training\", iname, 0, 1, 0, 0, 0, 0, 0, 0, 0]\n",
        "            trainLabels.loc[len(trainLabels.index)] = [iname, \"(0, 0, 48, 48)\", 0, 1, 0, 0, 0, 0, 0, 0, 0]\n",
        "        elif emotion == \"sadness\":\n",
        "            df.loc[len(df.index)] = [\"Training\", iname, 0, 0, 1, 0, 0, 0, 0, 0, 0]\n",
        "            trainLabels.loc[len(trainLabels.index)] = [iname, \"(0, 0, 48, 48)\", 0, 0, 1, 0, 0, 0, 0, 0, 0]\n",
        "        elif emotion == \"anger\":\n",
        "            df.loc[len(df.index)] = [\"Training\", iname, 0, 0, 0, 1, 0, 0, 0, 0, 0]\n",
        "            trainLabels.loc[len(trainLabels.index)] = [iname, \"(0, 0, 48, 48)\", 0, 0, 0, 1, 0, 0, 0, 0, 0]\n",
        "        elif emotion == \"disgust\":\n",
        "            df.loc[len(df.index)] = [\"Training\", iname, 0, 0, 0, 0, 1, 0, 0, 0, 0]\n",
        "            trainLabels.loc[len(trainLabels.index)] = [iname, \"(0, 0, 48, 48)\", 0, 0, 0, 0, 1, 0, 0, 0, 0]\n",
        "        elif emotion == \"fear\":\n",
        "            df.loc[len(df.index)] = [\"Training\", iname, 0, 0, 0, 0, 0, 1, 0, 0, 0]\n",
        "            trainLabels.loc[len(trainLabels.index)] = [iname, \"(0, 0, 48, 48)\", 0, 0, 0, 0, 0, 1, 0, 0, 0]\n",
        "        elif emotion == \"contempt\":\n",
        "            df.loc[len(df.index)] = [\"Training\", iname, 0, 0, 0, 0, 0, 0, 1, 0, 0]\n",
        "            trainLabels.loc[len(trainLabels.index)] = [iname, \"(0, 0, 48, 48)\", 0, 0, 0, 0, 0, 0, 1, 0, 0]\n",
        "    print(f\"{emotion} in Training completed.\")\n",
        "    print(df.shape)"
      ],
      "metadata": {
        "colab": {
          "base_uri": "https://localhost:8080/"
        },
        "id": "QEy_VZCULUQY",
        "outputId": "c52e4766-4a5a-469a-e4ef-ef6b43251ec7"
      },
      "execution_count": null,
      "outputs": [
        {
          "output_type": "stream",
          "name": "stdout",
          "text": [
            "happy in Training completed.\n",
            "(167, 11)\n",
            "surprise in Training completed.\n",
            "(368, 11)\n",
            "sadness in Training completed.\n",
            "(436, 11)\n",
            "anger in Training completed.\n",
            "(555, 11)\n",
            "disgust in Training completed.\n",
            "(698, 11)\n",
            "fear in Training completed.\n",
            "(759, 11)\n",
            "contempt in Training completed.\n",
            "(793, 11)\n"
          ]
        }
      ]
    },
    {
      "cell_type": "code",
      "source": [
        "for emotion, number in emo_classes.items():\n",
        "    new_val_src = os.path.join(val_src, emotion)\n",
        "    for img in os.listdir(new_val_src):\n",
        "        iname = \"ck+\" + str(count) + \".png\"\n",
        "        count += 1\n",
        "        if emotion == \"happy\":\n",
        "            df.loc[len(df.index)] = [\"PublicTest\", iname, 1, 0, 0, 0, 0, 0, 0, 0, 0]\n",
        "            valLabels.loc[len(valLabels.index)] = [iname, \"(0, 0, 48, 48)\", 1, 0, 0, 0, 0, 0, 0, 0, 0]\n",
        "        elif emotion == \"surprise\":\n",
        "            df.loc[len(df.index)] = [\"PublicTest\", iname, 0, 1, 0, 0, 0, 0, 0, 0, 0]\n",
        "            valLabels.loc[len(valLabels.index)] = [iname, \"(0, 0, 48, 48)\", 0, 1, 0, 0, 0, 0, 0, 0, 0]\n",
        "        elif emotion == \"sadness\":\n",
        "            df.loc[len(df.index)] = [\"PublicTest\", iname, 0, 0, 1, 0, 0, 0, 0, 0, 0]\n",
        "            valLabels.loc[len(valLabels.index)] = [iname, \"(0, 0, 48, 48)\", 0, 0, 1, 0, 0, 0, 0, 0, 0]\n",
        "        elif emotion == \"anger\":\n",
        "            df.loc[len(df.index)] = [\"PublicTest\", iname, 0, 0, 0, 1, 0, 0, 0, 0, 0]\n",
        "            valLabels.loc[len(valLabels.index)] = [iname, \"(0, 0, 48, 48)\", 0, 0, 0, 1, 0, 0, 0, 0, 0]\n",
        "        elif emotion == \"disgust\":\n",
        "            df.loc[len(df.index)] = [\"PublicTest\", iname, 0, 0, 0, 0, 1, 0, 0, 0, 0]\n",
        "            valLabels.loc[len(valLabels.index)] = [iname, \"(0, 0, 48, 48)\", 0, 0, 0, 0, 1, 0, 0, 0, 0]\n",
        "        elif emotion == \"fear\":\n",
        "            df.loc[len(df.index)] = [\"PublicTest\", iname, 0, 0, 0, 0, 0, 1, 0, 0, 0]\n",
        "            valLabels.loc[len(valLabels.index)] = [iname, \"(0, 0, 48, 48)\", 0, 0, 0, 0, 0, 1, 0, 0, 0]\n",
        "        elif emotion == \"contempt\":\n",
        "            df.loc[len(df.index)] = [\"PublicTest\", iname, 0, 0, 0, 0, 0, 0, 1, 0, 0]\n",
        "            valLabels.loc[len(valLabels.index)] = [iname, \"(0, 0, 48, 48)\", 0, 0, 0, 0, 0, 0, 1, 0, 0]\n",
        "    print(f\"{emotion} in Validation completed.\")\n",
        "    print(df.shape)"
      ],
      "metadata": {
        "colab": {
          "base_uri": "https://localhost:8080/"
        },
        "id": "R074HarsOAV8",
        "outputId": "c7f73a5a-31ed-4f4d-bbf2-87ed0d9728cc"
      },
      "execution_count": null,
      "outputs": [
        {
          "output_type": "stream",
          "name": "stdout",
          "text": [
            "happy in Validation completed.\n",
            "(813, 11)\n",
            "surprise in Validation completed.\n",
            "(813, 11)\n",
            "sadness in Validation completed.\n",
            "(821, 11)\n",
            "anger in Validation completed.\n",
            "(829, 11)\n",
            "disgust in Validation completed.\n",
            "(846, 11)\n",
            "fear in Validation completed.\n",
            "(853, 11)\n",
            "contempt in Validation completed.\n",
            "(863, 11)\n"
          ]
        }
      ]
    },
    {
      "cell_type": "code",
      "source": [
        "for emotion, number in emo_classes.items():\n",
        "    new_test_src = os.path.join(test_src, emotion)\n",
        "    for img in os.listdir(new_test_src):\n",
        "        iname = \"ck+\" + str(count) + \".png\"\n",
        "        count += 1\n",
        "        if emotion == \"happy\":\n",
        "            df.loc[len(df.index)] = [\"PrivateTest\", iname, 1, 0, 0, 0, 0, 0, 0, 0, 0]\n",
        "            testLabels.loc[len(testLabels.index)] = [iname, \"(0, 0, 48, 48)\", 1, 0, 0, 0, 0, 0, 0, 0, 0]\n",
        "        elif emotion == \"surprise\":\n",
        "            df.loc[len(df.index)] = [\"PrivateTest\", iname, 0, 1, 0, 0, 0, 0, 0, 0, 0]\n",
        "            testLabels.loc[len(testLabels.index)] = [iname, \"(0, 0, 48, 48)\", 0, 1, 0, 0, 0, 0, 0, 0, 0]\n",
        "        elif emotion == \"sadness\":\n",
        "            df.loc[len(df.index)] = [\"PrivateTest\", iname, 0, 0, 1, 0, 0, 0, 0, 0, 0]\n",
        "            testLabels.loc[len(testLabels.index)] = [iname, \"(0, 0, 48, 48)\", 0, 0, 1, 0, 0, 0, 0, 0, 0]\n",
        "        elif emotion == \"anger\":\n",
        "            df.loc[len(df.index)] = [\"PrivateTest\", iname, 0, 0, 0, 1, 0, 0, 0, 0, 0]\n",
        "            testLabels.loc[len(testLabels.index)] = [iname, \"(0, 0, 48, 48)\", 0, 0, 0, 1, 0, 0, 0, 0, 0]\n",
        "        elif emotion == \"disgust\":\n",
        "            df.loc[len(df.index)] = [\"PrivateTest\", iname, 0, 0, 0, 0, 1, 0, 0, 0, 0]\n",
        "            testLabels.loc[len(testLabels.index)] = [iname, \"(0, 0, 48, 48)\", 0, 0, 0, 0, 1, 0, 0, 0, 0]\n",
        "        elif emotion == \"fear\":\n",
        "            df.loc[len(df.index)] = [\"PrivateTest\", iname, 0, 0, 0, 0, 0, 1, 0, 0, 0]\n",
        "            testLabels.loc[len(testLabels.index)] = [iname, \"(0, 0, 48, 48)\", 0, 0, 0, 0, 0, 1, 0, 0, 0]\n",
        "        elif emotion == \"contempt\":\n",
        "            df.loc[len(df.index)] = [\"PrivateTest\", iname, 0, 0, 0, 0, 0, 0, 1, 0, 0]\n",
        "            testLabels.loc[len(testLabels.index)] = [iname, \"(0, 0, 48, 48)\", 0, 0, 0, 0, 0, 0, 1, 0, 0]\n",
        "    print(f\"{emotion} in Training completed.\")\n",
        "    print(df.shape)"
      ],
      "metadata": {
        "colab": {
          "base_uri": "https://localhost:8080/"
        },
        "id": "kBPV3_NsOWMR",
        "outputId": "5f5db0ac-c81d-491f-ea9a-996094d5620d"
      },
      "execution_count": null,
      "outputs": [
        {
          "output_type": "stream",
          "name": "stdout",
          "text": [
            "happy in Training completed.\n",
            "(883, 11)\n",
            "surprise in Training completed.\n",
            "(931, 11)\n",
            "sadness in Training completed.\n",
            "(939, 11)\n",
            "anger in Training completed.\n",
            "(947, 11)\n",
            "disgust in Training completed.\n",
            "(964, 11)\n",
            "fear in Training completed.\n",
            "(971, 11)\n",
            "contempt in Training completed.\n",
            "(981, 11)\n"
          ]
        }
      ]
    },
    {
      "cell_type": "code",
      "source": [
        "df.to_csv(\"CK+New.csv\", index = False)\n",
        "trainLabels.to_csv(\"trainLabels.csv\", header = False, index = False)\n",
        "valLabels.to_csv(\"valLabels.csv\", header = False, index = False)\n",
        "testLabels.to_csv(\"testLabels.csv\", header = False, index = False)"
      ],
      "metadata": {
        "id": "HTdt_LzuOmxm"
      },
      "execution_count": null,
      "outputs": []
    }
  ]
}