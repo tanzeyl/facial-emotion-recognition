{
  "cells": [
    {
      "cell_type": "code",
      "execution_count": 1,
      "metadata": {
        "colab": {
          "base_uri": "https://localhost:8080/"
        },
        "id": "iMHE1rzM6Fye",
        "outputId": "fd70b1c5-8338-4994-82ae-f02dab80528f"
      },
      "outputs": [
        {
          "name": "stdout",
          "output_type": "stream",
          "text": [
            "Mounted at /content/drive\n"
          ]
        }
      ],
      "source": [
        "from google.colab import drive\n",
        "drive.mount('/content/drive')"
      ]
    },
    {
      "cell_type": "code",
      "execution_count": 1,
      "metadata": {
        "id": "6_RwcnyW6GkB"
      },
      "outputs": [],
      "source": [
        "import math\n",
        "import numpy as np\n",
        "import pandas as pd\n",
        "import seaborn as sns\n",
        "from matplotlib import pyplot\n",
        "from sklearn.model_selection import train_test_split\n",
        "from sklearn.preprocessing import LabelEncoder\n",
        "from sklearn.metrics import classification_report\n",
        "import tensorflow as tf\n",
        "from tensorflow.keras import optimizers\n",
        "from tensorflow.keras.datasets import mnist\n",
        "from tensorflow.keras.models import Sequential\n",
        "from tensorflow.keras.layers import Flatten, Dense, Conv2D, MaxPooling2D\n",
        "from tensorflow.keras.layers import Dropout, BatchNormalization, LeakyReLU, Activation\n",
        "from tensorflow.keras.callbacks import Callback, EarlyStopping, ReduceLROnPlateau\n",
        "from tensorflow.keras.preprocessing.image import ImageDataGenerator\n",
        "from keras.utils import np_utils"
      ]
    },
    {
      "cell_type": "code",
      "execution_count": 6,
      "metadata": {
        "colab": {
          "base_uri": "https://localhost:8080/",
          "height": 206
        },
        "id": "WQL3i-j06cqz",
        "outputId": "65325c3d-cc5d-413c-ed3e-b24416a6285b"
      },
      "outputs": [
        {
          "data": {
            "text/html": [
              "\n",
              "  <div id=\"df-054ab0a4-e881-412b-acb4-babbaaa493b8\">\n",
              "    <div class=\"colab-df-container\">\n",
              "      <div>\n",
              "<style scoped>\n",
              "    .dataframe tbody tr th:only-of-type {\n",
              "        vertical-align: middle;\n",
              "    }\n",
              "\n",
              "    .dataframe tbody tr th {\n",
              "        vertical-align: top;\n",
              "    }\n",
              "\n",
              "    .dataframe thead th {\n",
              "        text-align: right;\n",
              "    }\n",
              "</style>\n",
              "<table border=\"1\" class=\"dataframe\">\n",
              "  <thead>\n",
              "    <tr style=\"text-align: right;\">\n",
              "      <th></th>\n",
              "      <th>emotion</th>\n",
              "      <th>pixels</th>\n",
              "      <th>Usage</th>\n",
              "    </tr>\n",
              "  </thead>\n",
              "  <tbody>\n",
              "    <tr>\n",
              "      <th>0</th>\n",
              "      <td>0</td>\n",
              "      <td>70 80 82 72 58 58 60 63 54 58 60 48 89 115 121...</td>\n",
              "      <td>Training</td>\n",
              "    </tr>\n",
              "    <tr>\n",
              "      <th>1</th>\n",
              "      <td>0</td>\n",
              "      <td>151 150 147 155 148 133 111 140 170 174 182 15...</td>\n",
              "      <td>Training</td>\n",
              "    </tr>\n",
              "    <tr>\n",
              "      <th>2</th>\n",
              "      <td>2</td>\n",
              "      <td>231 212 156 164 174 138 161 173 182 200 106 38...</td>\n",
              "      <td>Training</td>\n",
              "    </tr>\n",
              "    <tr>\n",
              "      <th>3</th>\n",
              "      <td>4</td>\n",
              "      <td>24 32 36 30 32 23 19 20 30 41 21 22 32 34 21 1...</td>\n",
              "      <td>Training</td>\n",
              "    </tr>\n",
              "    <tr>\n",
              "      <th>4</th>\n",
              "      <td>6</td>\n",
              "      <td>4 0 0 0 0 0 0 0 0 0 0 0 3 15 23 28 48 50 58 84...</td>\n",
              "      <td>Training</td>\n",
              "    </tr>\n",
              "  </tbody>\n",
              "</table>\n",
              "</div>\n",
              "      <button class=\"colab-df-convert\" onclick=\"convertToInteractive('df-054ab0a4-e881-412b-acb4-babbaaa493b8')\"\n",
              "              title=\"Convert this dataframe to an interactive table.\"\n",
              "              style=\"display:none;\">\n",
              "        \n",
              "  <svg xmlns=\"http://www.w3.org/2000/svg\" height=\"24px\"viewBox=\"0 0 24 24\"\n",
              "       width=\"24px\">\n",
              "    <path d=\"M0 0h24v24H0V0z\" fill=\"none\"/>\n",
              "    <path d=\"M18.56 5.44l.94 2.06.94-2.06 2.06-.94-2.06-.94-.94-2.06-.94 2.06-2.06.94zm-11 1L8.5 8.5l.94-2.06 2.06-.94-2.06-.94L8.5 2.5l-.94 2.06-2.06.94zm10 10l.94 2.06.94-2.06 2.06-.94-2.06-.94-.94-2.06-.94 2.06-2.06.94z\"/><path d=\"M17.41 7.96l-1.37-1.37c-.4-.4-.92-.59-1.43-.59-.52 0-1.04.2-1.43.59L10.3 9.45l-7.72 7.72c-.78.78-.78 2.05 0 2.83L4 21.41c.39.39.9.59 1.41.59.51 0 1.02-.2 1.41-.59l7.78-7.78 2.81-2.81c.8-.78.8-2.07 0-2.86zM5.41 20L4 18.59l7.72-7.72 1.47 1.35L5.41 20z\"/>\n",
              "  </svg>\n",
              "      </button>\n",
              "      \n",
              "  <style>\n",
              "    .colab-df-container {\n",
              "      display:flex;\n",
              "      flex-wrap:wrap;\n",
              "      gap: 12px;\n",
              "    }\n",
              "\n",
              "    .colab-df-convert {\n",
              "      background-color: #E8F0FE;\n",
              "      border: none;\n",
              "      border-radius: 50%;\n",
              "      cursor: pointer;\n",
              "      display: none;\n",
              "      fill: #1967D2;\n",
              "      height: 32px;\n",
              "      padding: 0 0 0 0;\n",
              "      width: 32px;\n",
              "    }\n",
              "\n",
              "    .colab-df-convert:hover {\n",
              "      background-color: #E2EBFA;\n",
              "      box-shadow: 0px 1px 2px rgba(60, 64, 67, 0.3), 0px 1px 3px 1px rgba(60, 64, 67, 0.15);\n",
              "      fill: #174EA6;\n",
              "    }\n",
              "\n",
              "    [theme=dark] .colab-df-convert {\n",
              "      background-color: #3B4455;\n",
              "      fill: #D2E3FC;\n",
              "    }\n",
              "\n",
              "    [theme=dark] .colab-df-convert:hover {\n",
              "      background-color: #434B5C;\n",
              "      box-shadow: 0px 1px 3px 1px rgba(0, 0, 0, 0.15);\n",
              "      filter: drop-shadow(0px 1px 2px rgba(0, 0, 0, 0.3));\n",
              "      fill: #FFFFFF;\n",
              "    }\n",
              "  </style>\n",
              "\n",
              "      <script>\n",
              "        const buttonEl =\n",
              "          document.querySelector('#df-054ab0a4-e881-412b-acb4-babbaaa493b8 button.colab-df-convert');\n",
              "        buttonEl.style.display =\n",
              "          google.colab.kernel.accessAllowed ? 'block' : 'none';\n",
              "\n",
              "        async function convertToInteractive(key) {\n",
              "          const element = document.querySelector('#df-054ab0a4-e881-412b-acb4-babbaaa493b8');\n",
              "          const dataTable =\n",
              "            await google.colab.kernel.invokeFunction('convertToInteractive',\n",
              "                                                     [key], {});\n",
              "          if (!dataTable) return;\n",
              "\n",
              "          const docLinkHtml = 'Like what you see? Visit the ' +\n",
              "            '<a target=\"_blank\" href=https://colab.research.google.com/notebooks/data_table.ipynb>data table notebook</a>'\n",
              "            + ' to learn more about interactive tables.';\n",
              "          element.innerHTML = '';\n",
              "          dataTable['output_type'] = 'display_data';\n",
              "          await google.colab.output.renderOutput(dataTable, element);\n",
              "          const docLink = document.createElement('div');\n",
              "          docLink.innerHTML = docLinkHtml;\n",
              "          element.appendChild(docLink);\n",
              "        }\n",
              "      </script>\n",
              "    </div>\n",
              "  </div>\n",
              "  "
            ],
            "text/plain": [
              "   emotion                                             pixels     Usage\n",
              "0        0  70 80 82 72 58 58 60 63 54 58 60 48 89 115 121...  Training\n",
              "1        0  151 150 147 155 148 133 111 140 170 174 182 15...  Training\n",
              "2        2  231 212 156 164 174 138 161 173 182 200 106 38...  Training\n",
              "3        4  24 32 36 30 32 23 19 20 30 41 21 22 32 34 21 1...  Training\n",
              "4        6  4 0 0 0 0 0 0 0 0 0 0 0 3 15 23 28 48 50 58 84...  Training"
            ]
          },
          "execution_count": 6,
          "metadata": {},
          "output_type": "execute_result"
        }
      ],
      "source": [
        "df = pd.read_csv('/content/drive/MyDrive/fer2013.csv')\n",
        "df.head()"
      ]
    },
    {
      "cell_type": "code",
      "execution_count": null,
      "metadata": {
        "id": "75wh6BdI6rA1"
      },
      "outputs": [],
      "source": [
        "classes = { 0: 'anger', 1: 'disgust', 2: 'fear', 3: 'happiness', 4: 'sadness', 5: 'surprise', 6: 'neutral' }"
      ]
    },
    {
      "cell_type": "code",
      "execution_count": 7,
      "metadata": {
        "colab": {
          "base_uri": "https://localhost:8080/"
        },
        "id": "v6tEFQX67HXv",
        "outputId": "a81f3fc2-8bf6-406d-a6c3-7f8681db38b7"
      },
      "outputs": [
        {
          "name": "stdout",
          "output_type": "stream",
          "text": [
            "(35887, 48, 48, 1)\n",
            "(35887, 7)\n"
          ]
        }
      ],
      "source": [
        "img_array = df.pixels.apply(lambda x: np.array(x.split(' ')).reshape(48, 48, 1).astype('float32'))\n",
        "img_array = np.stack(img_array, axis=0)\n",
        "print(img_array.shape)\n",
        "le = LabelEncoder()\n",
        "img_labels = le.fit_transform(df.emotion)\n",
        "img_labels = np_utils.to_categorical(img_labels)\n",
        "print(img_labels.shape)"
      ]
    },
    {
      "cell_type": "code",
      "execution_count": 8,
      "metadata": {
        "colab": {
          "base_uri": "https://localhost:8080/"
        },
        "id": "YiDLfrAr7Ya1",
        "outputId": "40c0f3a5-7c36-44bb-f5a7-5af86704a264"
      },
      "outputs": [
        {
          "name": "stdout",
          "output_type": "stream",
          "text": [
            "(32298, 48, 48, 1) (3589, 48, 48, 1) (32298, 7) (3589, 7)\n"
          ]
        }
      ],
      "source": [
        "X_train, X_valid, y_train, y_valid = train_test_split(img_array, img_labels, shuffle=True, stratify=img_labels, test_size=0.1, random_state=42)\n",
        "del df\n",
        "del img_array\n",
        "del img_labels\n",
        "print(X_train.shape, X_valid.shape, y_train.shape, y_valid.shape)"
      ]
    },
    {
      "cell_type": "code",
      "execution_count": 9,
      "metadata": {
        "id": "Je1SW7-X7v2J"
      },
      "outputs": [],
      "source": [
        "X_train = X_train / 255.\n",
        "X_valid = X_valid / 255.\n",
        "img_width = X_train.shape[1]\n",
        "img_height = X_train.shape[2]\n",
        "img_depth = X_train.shape[3]\n",
        "num_classes = y_train.shape[1]"
      ]
    },
    {
      "cell_type": "code",
      "execution_count": 10,
      "metadata": {
        "id": "9gRiLgyu77uS"
      },
      "outputs": [],
      "source": [
        "def build_net(optim):\n",
        "    net = Sequential(name='DCNN')\n",
        "    net.add(Conv2D(filters=64, kernel_size=(5,5), input_shape=(img_width, img_height, img_depth), activation='elu', padding='same', kernel_initializer='he_normal', name='conv2d_1'))\n",
        "    net.add(BatchNormalization(name='batchnorm_1'))\n",
        "    net.add(Conv2D(filters=64, kernel_size=(5,5), activation='elu', padding='same', kernel_initializer='he_normal', name='conv2d_2'))\n",
        "    net.add(BatchNormalization(name='batchnorm_2'))\n",
        "    net.add(MaxPooling2D(pool_size=(2,2), name='maxpool2d_1'))\n",
        "    net.add(Dropout(0.4, name='dropout_1'))\n",
        "    net.add(Conv2D(filters=128, kernel_size=(3,3), activation='elu', padding='same', kernel_initializer='he_normal', name='conv2d_3'))\n",
        "    net.add(BatchNormalization(name='batchnorm_3'))\n",
        "    net.add(Conv2D(filters=128, kernel_size=(3,3), activation='elu', padding='same', kernel_initializer='he_normal', name='conv2d_4'))\n",
        "    net.add(BatchNormalization(name='batchnorm_4'))\n",
        "    net.add(MaxPooling2D(pool_size=(2,2), name='maxpool2d_2'))\n",
        "    net.add(Dropout(0.4, name='dropout_2'))\n",
        "    net.add(Conv2D(filters=256, kernel_size=(3,3), activation='elu', padding='same', kernel_initializer='he_normal', name='conv2d_5'))\n",
        "    net.add(BatchNormalization(name='batchnorm_5'))\n",
        "    net.add(Conv2D(filters=256, kernel_size=(3,3), activation='elu', padding='same', kernel_initializer='he_normal',name='conv2d_6'))\n",
        "    net.add(BatchNormalization(name='batchnorm_6'))\n",
        "    net.add(MaxPooling2D(pool_size=(2,2), name='maxpool2d_3'))\n",
        "    net.add(Dropout(0.5, name='dropout_3'))\n",
        "    net.add(Flatten(name='flatten'))\n",
        "    net.add(Dense(128, activation='elu', kernel_initializer='he_normal', name='dense_1'))\n",
        "    net.add(BatchNormalization(name='batchnorm_7'))\n",
        "    net.add(Dropout(0.6, name='dropout_4'))\n",
        "    net.add(Dense(num_classes, activation='softmax', name='out_layer'))\n",
        "    net.compile(loss='categorical_crossentropy',optimizer=optim, metrics=['accuracy'])\n",
        "    net.summary()\n",
        "    return net"
      ]
    },
    {
      "cell_type": "code",
      "execution_count": 11,
      "metadata": {
        "id": "7Sb6kD1aBagC"
      },
      "outputs": [],
      "source": [
        "\n",
        "early_stopping = EarlyStopping(monitor='val_accuracy', min_delta=0.00005, patience=11, verbose=1, restore_best_weights=True)\n",
        "lr_scheduler = ReduceLROnPlateau(monitor='val_accuracy', factor=0.5, patience=7, min_lr=1e-7, verbose=1)\n",
        "callbacks = [early_stopping, lr_scheduler]"
      ]
    },
    {
      "cell_type": "code",
      "execution_count": 12,
      "metadata": {
        "id": "5hQz9gOFBpC4"
      },
      "outputs": [],
      "source": [
        "train_datagen = ImageDataGenerator(rotation_range=15, width_shift_range=0.15, height_shift_range=0.15, shear_range=0.15, zoom_range=0.15, horizontal_flip=True)\n",
        "train_datagen.fit(X_train)"
      ]
    },
    {
      "cell_type": "code",
      "execution_count": 13,
      "metadata": {
        "id": "3K3FFnL2Bwek"
      },
      "outputs": [],
      "source": [
        "batch_size = 32\n",
        "epochs = 120\n",
        "optims = [optimizers.Nadam(learning_rate=0.001, beta_1=0.9, beta_2=0.999, epsilon=1e-07, name='Nadam'), optimizers.Adam(0.001)]"
      ]
    },
    {
      "cell_type": "code",
      "execution_count": 14,
      "metadata": {
        "colab": {
          "base_uri": "https://localhost:8080/"
        },
        "id": "HipxRjsUB8fw",
        "outputId": "8d12c299-d99c-492b-ceb1-29b690fd4248"
      },
      "outputs": [
        {
          "name": "stdout",
          "output_type": "stream",
          "text": [
            "Model: \"DCNN\"\n",
            "_________________________________________________________________\n",
            " Layer (type)                Output Shape              Param #   \n",
            "=================================================================\n",
            " conv2d_1 (Conv2D)           (None, 48, 48, 64)        1664      \n",
            "                                                                 \n",
            " batchnorm_1 (BatchNormaliza  (None, 48, 48, 64)       256       \n",
            " tion)                                                           \n",
            "                                                                 \n",
            " conv2d_2 (Conv2D)           (None, 48, 48, 64)        102464    \n",
            "                                                                 \n",
            " batchnorm_2 (BatchNormaliza  (None, 48, 48, 64)       256       \n",
            " tion)                                                           \n",
            "                                                                 \n",
            " maxpool2d_1 (MaxPooling2D)  (None, 24, 24, 64)        0         \n",
            "                                                                 \n",
            " dropout_1 (Dropout)         (None, 24, 24, 64)        0         \n",
            "                                                                 \n",
            " conv2d_3 (Conv2D)           (None, 24, 24, 128)       73856     \n",
            "                                                                 \n",
            " batchnorm_3 (BatchNormaliza  (None, 24, 24, 128)      512       \n",
            " tion)                                                           \n",
            "                                                                 \n",
            " conv2d_4 (Conv2D)           (None, 24, 24, 128)       147584    \n",
            "                                                                 \n",
            " batchnorm_4 (BatchNormaliza  (None, 24, 24, 128)      512       \n",
            " tion)                                                           \n",
            "                                                                 \n",
            " maxpool2d_2 (MaxPooling2D)  (None, 12, 12, 128)       0         \n",
            "                                                                 \n",
            " dropout_2 (Dropout)         (None, 12, 12, 128)       0         \n",
            "                                                                 \n",
            " conv2d_5 (Conv2D)           (None, 12, 12, 256)       295168    \n",
            "                                                                 \n",
            " batchnorm_5 (BatchNormaliza  (None, 12, 12, 256)      1024      \n",
            " tion)                                                           \n",
            "                                                                 \n",
            " conv2d_6 (Conv2D)           (None, 12, 12, 256)       590080    \n",
            "                                                                 \n",
            " batchnorm_6 (BatchNormaliza  (None, 12, 12, 256)      1024      \n",
            " tion)                                                           \n",
            "                                                                 \n",
            " maxpool2d_3 (MaxPooling2D)  (None, 6, 6, 256)         0         \n",
            "                                                                 \n",
            " dropout_3 (Dropout)         (None, 6, 6, 256)         0         \n",
            "                                                                 \n",
            " flatten (Flatten)           (None, 9216)              0         \n",
            "                                                                 \n",
            " dense_1 (Dense)             (None, 128)               1179776   \n",
            "                                                                 \n",
            " batchnorm_7 (BatchNormaliza  (None, 128)              512       \n",
            " tion)                                                           \n",
            "                                                                 \n",
            " dropout_4 (Dropout)         (None, 128)               0         \n",
            "                                                                 \n",
            " out_layer (Dense)           (None, 7)                 903       \n",
            "                                                                 \n",
            "=================================================================\n",
            "Total params: 2,395,591\n",
            "Trainable params: 2,393,543\n",
            "Non-trainable params: 2,048\n",
            "_________________________________________________________________\n"
          ]
        }
      ],
      "source": [
        "model = build_net(optims[1]) "
      ]
    },
    {
      "cell_type": "code",
      "execution_count": 16,
      "metadata": {
        "colab": {
          "base_uri": "https://localhost:8080/"
        },
        "id": "olJVw4IZCB1a",
        "outputId": "8737c8cb-3bd3-4fd4-9dad-b8d768c4f435"
      },
      "outputs": [
        {
          "name": "stdout",
          "output_type": "stream",
          "text": [
            "Epoch 1/120\n",
            "1009/1009 [==============================] - 24s 24ms/step - loss: 2.0427 - accuracy: 0.2402 - val_loss: 1.6376 - val_accuracy: 0.3675 - lr: 0.0010\n",
            "Epoch 2/120\n",
            "1009/1009 [==============================] - 24s 23ms/step - loss: 1.6303 - accuracy: 0.3549 - val_loss: 1.4839 - val_accuracy: 0.4082 - lr: 0.0010\n",
            "Epoch 3/120\n",
            "1009/1009 [==============================] - 24s 23ms/step - loss: 1.4662 - accuracy: 0.4360 - val_loss: 1.2594 - val_accuracy: 0.5127 - lr: 0.0010\n",
            "Epoch 4/120\n",
            "1009/1009 [==============================] - 24s 23ms/step - loss: 1.3780 - accuracy: 0.4685 - val_loss: 1.3247 - val_accuracy: 0.4976 - lr: 0.0010\n",
            "Epoch 5/120\n",
            "1009/1009 [==============================] - 24s 24ms/step - loss: 1.3145 - accuracy: 0.5041 - val_loss: 1.1420 - val_accuracy: 0.5676 - lr: 0.0010\n",
            "Epoch 6/120\n",
            "1009/1009 [==============================] - 24s 23ms/step - loss: 1.2674 - accuracy: 0.5237 - val_loss: 1.0968 - val_accuracy: 0.5876 - lr: 0.0010\n",
            "Epoch 7/120\n",
            "1009/1009 [==============================] - 25s 25ms/step - loss: 1.2296 - accuracy: 0.5357 - val_loss: 1.1121 - val_accuracy: 0.5748 - lr: 0.0010\n",
            "Epoch 8/120\n",
            "1009/1009 [==============================] - 24s 23ms/step - loss: 1.2003 - accuracy: 0.5520 - val_loss: 1.0589 - val_accuracy: 0.6032 - lr: 0.0010\n",
            "Epoch 9/120\n",
            "1009/1009 [==============================] - 24s 24ms/step - loss: 1.1826 - accuracy: 0.5556 - val_loss: 1.0153 - val_accuracy: 0.6172 - lr: 0.0010\n",
            "Epoch 10/120\n",
            "1009/1009 [==============================] - 24s 23ms/step - loss: 1.1592 - accuracy: 0.5654 - val_loss: 1.0691 - val_accuracy: 0.5924 - lr: 0.0010\n",
            "Epoch 11/120\n",
            "1009/1009 [==============================] - 24s 24ms/step - loss: 1.1482 - accuracy: 0.5702 - val_loss: 1.0612 - val_accuracy: 0.5979 - lr: 0.0010\n",
            "Epoch 12/120\n",
            "1009/1009 [==============================] - 25s 25ms/step - loss: 1.1296 - accuracy: 0.5796 - val_loss: 1.0073 - val_accuracy: 0.6250 - lr: 0.0010\n",
            "Epoch 13/120\n",
            "1009/1009 [==============================] - 24s 24ms/step - loss: 1.1234 - accuracy: 0.5806 - val_loss: 0.9918 - val_accuracy: 0.6230 - lr: 0.0010\n",
            "Epoch 14/120\n",
            "1009/1009 [==============================] - 24s 24ms/step - loss: 1.1058 - accuracy: 0.5881 - val_loss: 0.9890 - val_accuracy: 0.6294 - lr: 0.0010\n",
            "Epoch 15/120\n",
            "1009/1009 [==============================] - 24s 24ms/step - loss: 1.0923 - accuracy: 0.5944 - val_loss: 0.9746 - val_accuracy: 0.6395 - lr: 0.0010\n",
            "Epoch 16/120\n",
            "1009/1009 [==============================] - 25s 25ms/step - loss: 1.0917 - accuracy: 0.5944 - val_loss: 0.9534 - val_accuracy: 0.6459 - lr: 0.0010\n",
            "Epoch 17/120\n",
            "1009/1009 [==============================] - 24s 24ms/step - loss: 1.0766 - accuracy: 0.6007 - val_loss: 0.9690 - val_accuracy: 0.6353 - lr: 0.0010\n",
            "Epoch 18/120\n",
            "1009/1009 [==============================] - 25s 25ms/step - loss: 1.0702 - accuracy: 0.6019 - val_loss: 1.0010 - val_accuracy: 0.6225 - lr: 0.0010\n",
            "Epoch 19/120\n",
            "1009/1009 [==============================] - 25s 25ms/step - loss: 1.0618 - accuracy: 0.6057 - val_loss: 0.9299 - val_accuracy: 0.6556 - lr: 0.0010\n",
            "Epoch 20/120\n",
            "1009/1009 [==============================] - 25s 25ms/step - loss: 1.0536 - accuracy: 0.6104 - val_loss: 0.9697 - val_accuracy: 0.6344 - lr: 0.0010\n",
            "Epoch 21/120\n",
            "1009/1009 [==============================] - 25s 25ms/step - loss: 1.0463 - accuracy: 0.6127 - val_loss: 0.9362 - val_accuracy: 0.6481 - lr: 0.0010\n",
            "Epoch 22/120\n",
            "1009/1009 [==============================] - 25s 24ms/step - loss: 1.0389 - accuracy: 0.6159 - val_loss: 0.9799 - val_accuracy: 0.6439 - lr: 0.0010\n",
            "Epoch 23/120\n",
            "1009/1009 [==============================] - 25s 24ms/step - loss: 1.0404 - accuracy: 0.6175 - val_loss: 0.9412 - val_accuracy: 0.6514 - lr: 0.0010\n",
            "Epoch 24/120\n",
            "1009/1009 [==============================] - 26s 26ms/step - loss: 1.0318 - accuracy: 0.6197 - val_loss: 0.9377 - val_accuracy: 0.6531 - lr: 0.0010\n",
            "Epoch 25/120\n",
            "1009/1009 [==============================] - 25s 25ms/step - loss: 1.0213 - accuracy: 0.6218 - val_loss: 0.9323 - val_accuracy: 0.6467 - lr: 0.0010\n",
            "Epoch 26/120\n",
            "1010/1009 [==============================] - ETA: 0s - loss: 1.0151 - accuracy: 0.6231\n",
            "Epoch 26: ReduceLROnPlateau reducing learning rate to 0.0005000000237487257.\n",
            "1009/1009 [==============================] - 25s 25ms/step - loss: 1.0151 - accuracy: 0.6231 - val_loss: 0.9316 - val_accuracy: 0.6506 - lr: 0.0010\n",
            "Epoch 27/120\n",
            "1009/1009 [==============================] - 25s 25ms/step - loss: 0.9916 - accuracy: 0.6335 - val_loss: 0.9113 - val_accuracy: 0.6637 - lr: 5.0000e-04\n",
            "Epoch 28/120\n",
            "1009/1009 [==============================] - 25s 25ms/step - loss: 0.9861 - accuracy: 0.6372 - val_loss: 0.9075 - val_accuracy: 0.6656 - lr: 5.0000e-04\n",
            "Epoch 29/120\n",
            "1009/1009 [==============================] - 26s 26ms/step - loss: 0.9777 - accuracy: 0.6387 - val_loss: 0.9039 - val_accuracy: 0.6606 - lr: 5.0000e-04\n",
            "Epoch 30/120\n",
            "1009/1009 [==============================] - 25s 24ms/step - loss: 0.9632 - accuracy: 0.6446 - val_loss: 0.9050 - val_accuracy: 0.6651 - lr: 5.0000e-04\n",
            "Epoch 31/120\n",
            "1009/1009 [==============================] - 25s 24ms/step - loss: 0.9642 - accuracy: 0.6424 - val_loss: 0.9129 - val_accuracy: 0.6676 - lr: 5.0000e-04\n",
            "Epoch 32/120\n",
            "1009/1009 [==============================] - 25s 25ms/step - loss: 0.9549 - accuracy: 0.6477 - val_loss: 0.8971 - val_accuracy: 0.6673 - lr: 5.0000e-04\n",
            "Epoch 33/120\n",
            "1009/1009 [==============================] - 25s 25ms/step - loss: 0.9517 - accuracy: 0.6486 - val_loss: 0.9078 - val_accuracy: 0.6693 - lr: 5.0000e-04\n",
            "Epoch 34/120\n",
            "1009/1009 [==============================] - 26s 26ms/step - loss: 0.9546 - accuracy: 0.6478 - val_loss: 0.8971 - val_accuracy: 0.6734 - lr: 5.0000e-04\n",
            "Epoch 35/120\n",
            "1009/1009 [==============================] - 25s 25ms/step - loss: 0.9471 - accuracy: 0.6522 - val_loss: 0.8966 - val_accuracy: 0.6748 - lr: 5.0000e-04\n",
            "Epoch 36/120\n",
            "1009/1009 [==============================] - 25s 24ms/step - loss: 0.9459 - accuracy: 0.6492 - val_loss: 0.9229 - val_accuracy: 0.6656 - lr: 5.0000e-04\n",
            "Epoch 37/120\n",
            "1009/1009 [==============================] - 25s 25ms/step - loss: 0.9433 - accuracy: 0.6520 - val_loss: 0.8989 - val_accuracy: 0.6771 - lr: 5.0000e-04\n",
            "Epoch 38/120\n",
            "1009/1009 [==============================] - 25s 24ms/step - loss: 0.9373 - accuracy: 0.6541 - val_loss: 0.8938 - val_accuracy: 0.6832 - lr: 5.0000e-04\n",
            "Epoch 39/120\n",
            "1009/1009 [==============================] - 26s 26ms/step - loss: 0.9306 - accuracy: 0.6553 - val_loss: 0.8898 - val_accuracy: 0.6740 - lr: 5.0000e-04\n",
            "Epoch 40/120\n",
            "1009/1009 [==============================] - 25s 25ms/step - loss: 0.9464 - accuracy: 0.6519 - val_loss: 0.8928 - val_accuracy: 0.6812 - lr: 5.0000e-04\n",
            "Epoch 41/120\n",
            "1009/1009 [==============================] - 25s 25ms/step - loss: 0.9307 - accuracy: 0.6588 - val_loss: 0.8897 - val_accuracy: 0.6793 - lr: 5.0000e-04\n",
            "Epoch 42/120\n",
            "1009/1009 [==============================] - 25s 25ms/step - loss: 0.9227 - accuracy: 0.6597 - val_loss: 0.8888 - val_accuracy: 0.6782 - lr: 5.0000e-04\n",
            "Epoch 43/120\n",
            "1009/1009 [==============================] - 26s 26ms/step - loss: 0.9224 - accuracy: 0.6594 - val_loss: 0.8935 - val_accuracy: 0.6751 - lr: 5.0000e-04\n",
            "Epoch 44/120\n",
            "1009/1009 [==============================] - 25s 25ms/step - loss: 0.9246 - accuracy: 0.6629 - val_loss: 0.8908 - val_accuracy: 0.6768 - lr: 5.0000e-04\n",
            "Epoch 45/120\n",
            "1010/1009 [==============================] - ETA: 0s - loss: 0.9230 - accuracy: 0.6619\n",
            "Epoch 45: ReduceLROnPlateau reducing learning rate to 0.0002500000118743628.\n",
            "1009/1009 [==============================] - 25s 25ms/step - loss: 0.9230 - accuracy: 0.6619 - val_loss: 0.8754 - val_accuracy: 0.6746 - lr: 5.0000e-04\n",
            "Epoch 46/120\n",
            "1009/1009 [==============================] - 25s 25ms/step - loss: 0.9054 - accuracy: 0.6688 - val_loss: 0.8809 - val_accuracy: 0.6773 - lr: 2.5000e-04\n",
            "Epoch 47/120\n",
            "1009/1009 [==============================] - 26s 26ms/step - loss: 0.8954 - accuracy: 0.6725 - val_loss: 0.8945 - val_accuracy: 0.6793 - lr: 2.5000e-04\n",
            "Epoch 48/120\n",
            "1009/1009 [==============================] - 25s 25ms/step - loss: 0.8949 - accuracy: 0.6712 - val_loss: 0.8830 - val_accuracy: 0.6826 - lr: 2.5000e-04\n",
            "Epoch 49/120\n",
            "1010/1009 [==============================] - ETA: 0s - loss: 0.8969 - accuracy: 0.6688Restoring model weights from the end of the best epoch: 38.\n",
            "1009/1009 [==============================] - 25s 25ms/step - loss: 0.8969 - accuracy: 0.6688 - val_loss: 0.8811 - val_accuracy: 0.6824 - lr: 2.5000e-04\n",
            "Epoch 49: early stopping\n"
          ]
        }
      ],
      "source": [
        "history = model.fit(train_datagen.flow(X_train, y_train, batch_size=batch_size), validation_data=(X_valid, y_valid), steps_per_epoch=len(X_train) / batch_size, epochs=epochs, callbacks=callbacks, use_multiprocessing=True)"
      ]
    },
    {
      "cell_type": "code",
      "execution_count": 18,
      "metadata": {
        "id": "iTUn6K_LCLrw"
      },
      "outputs": [],
      "source": [
        "model.save(\"model.h5\")"
      ]
    },
    {
      "cell_type": "code",
      "execution_count": null,
      "metadata": {
        "id": "1hwtFsuMID0N"
      },
      "outputs": [],
      "source": []
    }
  ],
  "metadata": {
    "accelerator": "GPU",
    "colab": {
      "name": "FER.ipynb",
      "provenance": []
    },
    "gpuClass": "standard",
    "kernelspec": {
      "display_name": "Python 3.10.5 64-bit",
      "language": "python",
      "name": "python3"
    },
    "language_info": {
      "codemirror_mode": {
        "name": "ipython",
        "version": 3
      },
      "file_extension": ".py",
      "mimetype": "text/x-python",
      "name": "python",
      "nbconvert_exporter": "python",
      "pygments_lexer": "ipython3",
      "version": "3.10.5"
    },
    "vscode": {
      "interpreter": {
        "hash": "028edc983cdeee7c2ddcfc11c02f5487fb67b83751759733337f31eb2117c324"
      }
    }
  },
  "nbformat": 4,
  "nbformat_minor": 0
}
