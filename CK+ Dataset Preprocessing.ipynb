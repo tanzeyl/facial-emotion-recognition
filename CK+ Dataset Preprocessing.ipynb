{
  "cells": [
    {
      "cell_type": "code",
      "execution_count": null,
      "metadata": {
        "id": "WtAdZS3B8KEu"
      },
      "outputs": [],
      "source": [
        "import os\n",
        "import cv2\n",
        "import pandas as pd"
      ]
    },
    {
      "cell_type": "code",
      "execution_count": null,
      "metadata": {
        "id": "MYF02VfD8MIY"
      },
      "outputs": [],
      "source": [
        "emo_classes = {'happy' : 0, 'surprise' : 1, 'sadness' : 2, 'anger' : 3, 'disgust' : 4, 'fear' : 5, 'contempt' : 6}\n",
        "train_src = \"/content/drive/MyDrive/CK+/train/\"\n",
        "val_src = \"/content/drive/MyDrive/CK+/val/\"\n",
        "test_src = \"/content/drive/MyDrive/CK+/test/\""
      ]
    },
    {
      "cell_type": "code",
      "execution_count": null,
      "metadata": {
        "id": "9K0IGbzz8T0i"
      },
      "outputs": [],
      "source": [
        "columns = [\"Emotion\", \"Pixels\", \"Usage\"]\n",
        "df = pd.DataFrame(columns=columns)"
      ]
    },
    {
      "cell_type": "code",
      "execution_count": null,
      "metadata": {
        "colab": {
          "base_uri": "https://localhost:8080/"
        },
        "id": "kwIj4_Ib8WR3",
        "outputId": "1061d355-54bc-4911-d7cc-26b20225b54b"
      },
      "outputs": [
        {
          "output_type": "stream",
          "name": "stdout",
          "text": [
            "happy in Training completed.\n",
            "(167, 3)\n",
            "surprise in Training completed.\n",
            "(368, 3)\n",
            "sadness in Training completed.\n",
            "(436, 3)\n",
            "anger in Training completed.\n",
            "(555, 3)\n",
            "disgust in Training completed.\n",
            "(698, 3)\n",
            "fear in Training completed.\n",
            "(759, 3)\n",
            "contempt in Training completed.\n",
            "(793, 3)\n"
          ]
        }
      ],
      "source": [
        "for emotion, number in emo_classes.items():\n",
        "    new_train_src = os.path.join(train_src, emotion)\n",
        "    for img in os.listdir(new_train_src):\n",
        "        src = os.path.join(new_train_src, img)\n",
        "        img = cv2.imread(src)\n",
        "        gray = cv2.cvtColor(img, cv2.COLOR_BGR2GRAY)\n",
        "        s = []\n",
        "        for list1 in img:\n",
        "            for list2 in list1:\n",
        "                res = int(list2[0])*0.07 + int(list2[1])*0.72 + int(list2[0])*0.21\n",
        "                s.append(res)\n",
        "        res = \"\"\n",
        "        for i in range(len(s)):\n",
        "            t = int(s[i])\n",
        "            res += str(t) + \" \"\n",
        "        res = res[:-1]\n",
        "        df.loc[len(df.index)] = [emo_classes[emotion], res, \"Training\"]\n",
        "    print(f\"{emotion} in Training completed.\")\n",
        "    print(df.shape)"
      ]
    },
    {
      "cell_type": "code",
      "execution_count": null,
      "metadata": {
        "id": "bMjkzmSDcJFW",
        "colab": {
          "base_uri": "https://localhost:8080/"
        },
        "outputId": "97c999dc-f6e3-4db6-a7f8-52318a22e4d7"
      },
      "outputs": [
        {
          "output_type": "stream",
          "name": "stdout",
          "text": [
            "happy in Validation completed.\n",
            "(813, 3)\n",
            "surprise in Validation completed.\n",
            "(813, 3)\n",
            "sadness in Validation completed.\n",
            "(821, 3)\n",
            "anger in Validation completed.\n",
            "(829, 3)\n",
            "disgust in Validation completed.\n",
            "(846, 3)\n",
            "fear in Validation completed.\n",
            "(853, 3)\n",
            "contempt in Validation completed.\n",
            "(863, 3)\n"
          ]
        }
      ],
      "source": [
        "for emotion, number in emo_classes.items():\n",
        "    new_val_src = os.path.join(val_src, emotion)\n",
        "    for img in os.listdir(new_val_src):\n",
        "        src = os.path.join(new_val_src, img)\n",
        "        img = cv2.imread(src)\n",
        "        gray = cv2.cvtColor(img, cv2.COLOR_BGR2GRAY)\n",
        "        s = []\n",
        "        for list1 in img:\n",
        "            for list2 in list1:\n",
        "                res = int(list2[0])*0.07 + int(list2[1])*0.72 + int(list2[0])*0.21\n",
        "                s.append(res)\n",
        "        res = \"\"\n",
        "        for i in range(len(s)):\n",
        "            t = int(s[i])\n",
        "            res += str(t) + \" \"\n",
        "        res = res[:-1]\n",
        "        df.loc[len(df.index)] = [emo_classes[emotion], res, \"PublicTest\"]\n",
        "    print(f\"{emotion} in Validation completed.\")\n",
        "    print(df.shape)"
      ]
    },
    {
      "cell_type": "code",
      "source": [
        "for emotion, number in emo_classes.items():\n",
        "    new_test_src = os.path.join(test_src, emotion)\n",
        "    for img in os.listdir(new_test_src):\n",
        "        src = os.path.join(new_test_src, img)\n",
        "        img = cv2.imread(src)\n",
        "        gray = cv2.cvtColor(img, cv2.COLOR_BGR2GRAY)\n",
        "        s = []\n",
        "        for list1 in img:\n",
        "            for list2 in list1:\n",
        "                res = int(list2[0])*0.07 + int(list2[1])*0.72 + int(list2[0])*0.21\n",
        "                s.append(res)\n",
        "        res = \"\"\n",
        "        for i in range(len(s)):\n",
        "            t = int(s[i])\n",
        "            res += str(t) + \" \"\n",
        "        res = res[:-1]\n",
        "        df.loc[len(df.index)] = [emo_classes[emotion], res, \"PrivateTest\"]\n",
        "    print(f\"{emotion} in Testing completed.\")\n",
        "    print(df.shape)"
      ],
      "metadata": {
        "colab": {
          "base_uri": "https://localhost:8080/"
        },
        "id": "a3XHAoaFvtHZ",
        "outputId": "6f5df136-a823-40ba-d16c-4db2a78db0e1"
      },
      "execution_count": null,
      "outputs": [
        {
          "output_type": "stream",
          "name": "stdout",
          "text": [
            "happy in Testing completed.\n",
            "(883, 3)\n",
            "surprise in Testing completed.\n",
            "(931, 3)\n",
            "sadness in Testing completed.\n",
            "(939, 3)\n",
            "anger in Testing completed.\n",
            "(947, 3)\n",
            "disgust in Testing completed.\n",
            "(964, 3)\n",
            "fear in Testing completed.\n",
            "(971, 3)\n",
            "contempt in Testing completed.\n",
            "(981, 3)\n"
          ]
        }
      ]
    },
    {
      "cell_type": "code",
      "source": [
        "df.head()"
      ],
      "metadata": {
        "colab": {
          "base_uri": "https://localhost:8080/",
          "height": 206
        },
        "id": "jsWFtxteyZfO",
        "outputId": "1e81c9bc-c5e9-4b78-fbbe-17c09db6a7cd"
      },
      "execution_count": null,
      "outputs": [
        {
          "output_type": "execute_result",
          "data": {
            "text/plain": [
              "  Emotion                                             Pixels     Usage\n",
              "0       0  86 86 83 49 13 1 27 108 128 132 144 152 161 17...  Training\n",
              "1       0  84 86 88 68 24 6 2 69 123 127 138 153 157 169 ...  Training\n",
              "2       0  86 86 88 69 27 7 4 64 123 127 138 153 156 171 ...  Training\n",
              "3       0  87 68 45 35 33 33 44 77 110 110 104 143 165 18...  Training\n",
              "4       0  91 77 49 38 33 32 39 71 104 116 99 138 163 183...  Training"
            ],
            "text/html": [
              "\n",
              "  <div id=\"df-66d321d2-ea3c-44dc-bd4b-635e278488dd\">\n",
              "    <div class=\"colab-df-container\">\n",
              "      <div>\n",
              "<style scoped>\n",
              "    .dataframe tbody tr th:only-of-type {\n",
              "        vertical-align: middle;\n",
              "    }\n",
              "\n",
              "    .dataframe tbody tr th {\n",
              "        vertical-align: top;\n",
              "    }\n",
              "\n",
              "    .dataframe thead th {\n",
              "        text-align: right;\n",
              "    }\n",
              "</style>\n",
              "<table border=\"1\" class=\"dataframe\">\n",
              "  <thead>\n",
              "    <tr style=\"text-align: right;\">\n",
              "      <th></th>\n",
              "      <th>Emotion</th>\n",
              "      <th>Pixels</th>\n",
              "      <th>Usage</th>\n",
              "    </tr>\n",
              "  </thead>\n",
              "  <tbody>\n",
              "    <tr>\n",
              "      <th>0</th>\n",
              "      <td>0</td>\n",
              "      <td>86 86 83 49 13 1 27 108 128 132 144 152 161 17...</td>\n",
              "      <td>Training</td>\n",
              "    </tr>\n",
              "    <tr>\n",
              "      <th>1</th>\n",
              "      <td>0</td>\n",
              "      <td>84 86 88 68 24 6 2 69 123 127 138 153 157 169 ...</td>\n",
              "      <td>Training</td>\n",
              "    </tr>\n",
              "    <tr>\n",
              "      <th>2</th>\n",
              "      <td>0</td>\n",
              "      <td>86 86 88 69 27 7 4 64 123 127 138 153 156 171 ...</td>\n",
              "      <td>Training</td>\n",
              "    </tr>\n",
              "    <tr>\n",
              "      <th>3</th>\n",
              "      <td>0</td>\n",
              "      <td>87 68 45 35 33 33 44 77 110 110 104 143 165 18...</td>\n",
              "      <td>Training</td>\n",
              "    </tr>\n",
              "    <tr>\n",
              "      <th>4</th>\n",
              "      <td>0</td>\n",
              "      <td>91 77 49 38 33 32 39 71 104 116 99 138 163 183...</td>\n",
              "      <td>Training</td>\n",
              "    </tr>\n",
              "  </tbody>\n",
              "</table>\n",
              "</div>\n",
              "      <button class=\"colab-df-convert\" onclick=\"convertToInteractive('df-66d321d2-ea3c-44dc-bd4b-635e278488dd')\"\n",
              "              title=\"Convert this dataframe to an interactive table.\"\n",
              "              style=\"display:none;\">\n",
              "        \n",
              "  <svg xmlns=\"http://www.w3.org/2000/svg\" height=\"24px\"viewBox=\"0 0 24 24\"\n",
              "       width=\"24px\">\n",
              "    <path d=\"M0 0h24v24H0V0z\" fill=\"none\"/>\n",
              "    <path d=\"M18.56 5.44l.94 2.06.94-2.06 2.06-.94-2.06-.94-.94-2.06-.94 2.06-2.06.94zm-11 1L8.5 8.5l.94-2.06 2.06-.94-2.06-.94L8.5 2.5l-.94 2.06-2.06.94zm10 10l.94 2.06.94-2.06 2.06-.94-2.06-.94-.94-2.06-.94 2.06-2.06.94z\"/><path d=\"M17.41 7.96l-1.37-1.37c-.4-.4-.92-.59-1.43-.59-.52 0-1.04.2-1.43.59L10.3 9.45l-7.72 7.72c-.78.78-.78 2.05 0 2.83L4 21.41c.39.39.9.59 1.41.59.51 0 1.02-.2 1.41-.59l7.78-7.78 2.81-2.81c.8-.78.8-2.07 0-2.86zM5.41 20L4 18.59l7.72-7.72 1.47 1.35L5.41 20z\"/>\n",
              "  </svg>\n",
              "      </button>\n",
              "      \n",
              "  <style>\n",
              "    .colab-df-container {\n",
              "      display:flex;\n",
              "      flex-wrap:wrap;\n",
              "      gap: 12px;\n",
              "    }\n",
              "\n",
              "    .colab-df-convert {\n",
              "      background-color: #E8F0FE;\n",
              "      border: none;\n",
              "      border-radius: 50%;\n",
              "      cursor: pointer;\n",
              "      display: none;\n",
              "      fill: #1967D2;\n",
              "      height: 32px;\n",
              "      padding: 0 0 0 0;\n",
              "      width: 32px;\n",
              "    }\n",
              "\n",
              "    .colab-df-convert:hover {\n",
              "      background-color: #E2EBFA;\n",
              "      box-shadow: 0px 1px 2px rgba(60, 64, 67, 0.3), 0px 1px 3px 1px rgba(60, 64, 67, 0.15);\n",
              "      fill: #174EA6;\n",
              "    }\n",
              "\n",
              "    [theme=dark] .colab-df-convert {\n",
              "      background-color: #3B4455;\n",
              "      fill: #D2E3FC;\n",
              "    }\n",
              "\n",
              "    [theme=dark] .colab-df-convert:hover {\n",
              "      background-color: #434B5C;\n",
              "      box-shadow: 0px 1px 3px 1px rgba(0, 0, 0, 0.15);\n",
              "      filter: drop-shadow(0px 1px 2px rgba(0, 0, 0, 0.3));\n",
              "      fill: #FFFFFF;\n",
              "    }\n",
              "  </style>\n",
              "\n",
              "      <script>\n",
              "        const buttonEl =\n",
              "          document.querySelector('#df-66d321d2-ea3c-44dc-bd4b-635e278488dd button.colab-df-convert');\n",
              "        buttonEl.style.display =\n",
              "          google.colab.kernel.accessAllowed ? 'block' : 'none';\n",
              "\n",
              "        async function convertToInteractive(key) {\n",
              "          const element = document.querySelector('#df-66d321d2-ea3c-44dc-bd4b-635e278488dd');\n",
              "          const dataTable =\n",
              "            await google.colab.kernel.invokeFunction('convertToInteractive',\n",
              "                                                     [key], {});\n",
              "          if (!dataTable) return;\n",
              "\n",
              "          const docLinkHtml = 'Like what you see? Visit the ' +\n",
              "            '<a target=\"_blank\" href=https://colab.research.google.com/notebooks/data_table.ipynb>data table notebook</a>'\n",
              "            + ' to learn more about interactive tables.';\n",
              "          element.innerHTML = '';\n",
              "          dataTable['output_type'] = 'display_data';\n",
              "          await google.colab.output.renderOutput(dataTable, element);\n",
              "          const docLink = document.createElement('div');\n",
              "          docLink.innerHTML = docLinkHtml;\n",
              "          element.appendChild(docLink);\n",
              "        }\n",
              "      </script>\n",
              "    </div>\n",
              "  </div>\n",
              "  "
            ]
          },
          "metadata": {},
          "execution_count": 7
        }
      ]
    },
    {
      "cell_type": "code",
      "source": [
        "df.to_csv(\"CK+.csv\", index = False)"
      ],
      "metadata": {
        "id": "DJZKFmS8v4j1"
      },
      "execution_count": null,
      "outputs": []
    }
  ],
  "metadata": {
    "colab": {
      "provenance": []
    },
    "kernelspec": {
      "display_name": "Python 3",
      "name": "python3"
    },
    "language_info": {
      "name": "python"
    }
  },
  "nbformat": 4,
  "nbformat_minor": 0
}